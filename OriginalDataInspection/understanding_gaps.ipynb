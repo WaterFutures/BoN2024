{
 "cells": [
  {
   "cell_type": "markdown",
   "metadata": {},
   "source": [
    "# Understanding the gaps\n",
    "\n",
    "Let's start by looking at how many gaps are in each dma and in the weather, how big they are and how to deal with them.\n"
   ]
  },
  {
   "cell_type": "code",
   "execution_count": null,
   "metadata": {},
   "outputs": [],
   "source": [
    "# Load variables from load_original_data\n",
    "import sys\n",
    "sys.path.append(\"..\")  # Adds higher directory to python modules path.\n",
    "\n",
    "import data_loader\n",
    "dmas_h_q, wea_h, calendar, dmas_characteristics = data_loader.load_original_data()"
   ]
  },
  {
   "cell_type": "code",
   "execution_count": null,
   "metadata": {},
   "outputs": [],
   "source": [
    "%matplotlib widget\n",
    "import matplotlib.pyplot as plt\n",
    "import pandas as pd\n",
    "import numpy as np"
   ]
  },
  {
   "cell_type": "markdown",
   "metadata": {},
   "source": [
    "## First days\n",
    "The data starts on the 1st of January 2021 which is a Friday and a Holiday in Italy. The whole forecasting problem works week by week starting on a Monday, thus it make sense to start from the first Monday (4th of January). \n",
    "Let's look at the trajectories in the firste 3 days to see if there are gaps and if we are loosing some data"
   ]
  },
  {
   "cell_type": "code",
   "execution_count": null,
   "metadata": {},
   "outputs": [],
   "source": [
    "# Create a figure with two subplots\n",
    "fig = plt.figure(figsize=(12, 8))\n",
    "gspec = plt.GridSpec(5, 1)\n",
    "\n",
    "ax1 = plt.subplot(gspec[:4, 0])\n",
    "# Plot the first 3 days of hourly consumption\n",
    "ax1.plot(dmas_h_q[:72])\n",
    "ax1.set_xlabel('Time')\n",
    "ax1.set_ylabel('Hourly Consumption [L/s]')\n",
    "ax1.set_title('First 3 Days of Hourly Consumption by DMA')\n",
    "ax1.legend(dmas_characteristics.index, loc='upper right' )\n",
    "\n",
    "ax2 = plt.subplot(gspec[4, 0])\n",
    "# Create a histogram of NaN values in the first 72 values\n",
    "nan_counts = np.isnan(dmas_h_q[:72]).sum(axis=0)\n",
    "ax2.bar(range(len(nan_counts)), nan_counts)\n",
    "ax2.plot([0, 9], [72,72], 'r--', label='Max')\n",
    "ax2.set_xlabel('DMA')\n",
    "ax2.set_xticks(range(len(nan_counts)))\n",
    "ax2.set_xticklabels(dmas_characteristics.index, rotation=-45)\n",
    "ax2.set_ylabel('NaN Counts')\n",
    "ax2.set_title('NaN Counts in the First 3 Days')\n",
    "\n",
    "# Adjust the layout of the subplots\n",
    "plt.tight_layout()\n",
    "\n",
    "# Show the figure\n",
    "plt.show()\n"
   ]
  },
  {
   "cell_type": "markdown",
   "metadata": {},
   "source": [
    "## Histogram by variable\n",
    "A histogram counting how many gaps for each variable (dma or weather data). \n",
    "10 dmas complete networ and 4 weather variables = 15 variable -> figure with (5*3) "
   ]
  },
  {
   "cell_type": "code",
   "execution_count": null,
   "metadata": {},
   "outputs": [],
   "source": [
    "net_h_q = dmas_h_q.sum(axis=1, skipna=False)\n",
    "net_h_q = net_h_q.to_frame()\n",
    "net_h_q.columns = ['Network']\n",
    "\n",
    "# All variables concatenated \n",
    "vars_h = pd.concat([dmas_h_q.iloc[72:], net_h_q[72:], wea_h.iloc[72:len(dmas_h_q)]], axis=1)\n",
    "\n",
    "# count the total number of Nans in each variable and how long each gaps is \n",
    "def count_consecutive_nans( array ) :\n",
    "\n",
    "    nans = np.isnan(array)\n",
    "\n",
    "    consecutive_nans = []\n",
    "    count = 0\n",
    "    for i in range(nans.shape[0]):\n",
    "        if nans.iloc[i]:\n",
    "            count += 1\n",
    "        else:\n",
    "            if count != 0:\n",
    "                consecutive_nans.append(count)\n",
    "            count = 0\n",
    "    \n",
    "    return consecutive_nans\n",
    "\n",
    "# Count the total number of nans for each variable \n",
    "nans_count = vars_h.isna().sum()\n",
    "\n",
    "# Count the total number of gaps for each variable\n",
    "nans_count_consecutive = vars_h.apply(count_consecutive_nans, axis=0)\n"
   ]
  },
  {
   "cell_type": "code",
   "execution_count": null,
   "metadata": {},
   "outputs": [],
   "source": [
    "\n",
    "# Plot the 15 histograms of the gaps for each variable\n",
    "fig = plt.figure(figsize=(12, 8))\n",
    "gspec = plt.GridSpec(3, 5)\n",
    "\n",
    "for i in range(15):\n",
    "    ax = plt.subplot(gspec[i])\n",
    "    unique_elements = np.unique(nans_count_consecutive.iloc[i])\n",
    "    ax.bar(unique_elements, [sum(nans_count_consecutive.iloc[i] == x) for x in unique_elements])\n",
    "    ax.title.set_text(vars_h.columns[i])"
   ]
  },
  {
   "cell_type": "markdown",
   "metadata": {},
   "source": [
    "##  Violin plot by variable\n",
    "h"
   ]
  },
  {
   "cell_type": "code",
   "execution_count": null,
   "metadata": {},
   "outputs": [],
   "source": [
    "# remove empty variables (no gaps)\n",
    "\n",
    "for var in nans_count_consecutive.index :\n",
    "    if len(nans_count_consecutive.loc[var]) ==  0 :\n",
    "        nans_count_consecutive = nans_count_consecutive.drop(var)\n",
    "\n",
    "\n",
    "fig = plt.figure(figsize=(12, 8))\n",
    "plt.violinplot(nans_count_consecutive, showmeans=True)\n",
    "plt.xticks(range(1, nans_count_consecutive.shape[0]+1), nans_count_consecutive.index, rotation=-45)\n",
    "plt.ylabel('Distribution of the Gaps')\n",
    "plt.title('Distribution of the Gaps for each Variable')\n",
    "plt.show()"
   ]
  },
  {
   "cell_type": "code",
   "execution_count": null,
   "metadata": {},
   "outputs": [],
   "source": [
    "fig = plt.figure(figsize=(12, 8))\n",
    "plt.bar(range(nans_count_consecutive.shape[0]), [np.array(nans_count_consecutive.iloc[i]).sum() for i in range(nans_count_consecutive.shape[0])])\n",
    "plt.xticks(range(nans_count_consecutive.shape[0]), nans_count_consecutive.index, rotation=-45)\n",
    "plt.ylabel('Distribution of the Gaps')\n",
    "plt.title('Distribution of the Gaps for each Variable')\n",
    "plt.show()"
   ]
  },
  {
   "cell_type": "markdown",
   "metadata": {},
   "source": [
    "# Try to fill all the data where **only one hour is missing**"
   ]
  },
  {
   "cell_type": "code",
   "execution_count": null,
   "metadata": {},
   "outputs": [],
   "source": [
    "\n",
    "def fill_one_hour_gaps( a_column: pd.Series ) -> pd.Series :\n",
    "    nans = np.isnan(a_column)\n",
    "\n",
    "    for i in range(1, nans.shape[0]-1):\n",
    "        if nans.iloc[i] and not nans.iloc[i-1] and not nans.iloc[i+1] :\n",
    "            a_column.iloc[i] = (a_column.iloc[i-1] + a_column.iloc[i+1])/2\n",
    "    return a_column\n",
    "\n",
    "myfilled__vars_h = vars_h.apply(fill_one_hour_gaps, axis=0)\n",
    "\n",
    "filled__vars_h = vars_h.interpolate(method='linear', axis=0, limit_direction='both', limit=1)\n",
    "print(myfilled__vars_h.isna().sum()-filled__vars_h.isna().sum())"
   ]
  }
 ],
 "metadata": {
  "kernelspec": {
   "display_name": "BoN2024",
   "language": "python",
   "name": "python3"
  },
  "language_info": {
   "codemirror_mode": {
    "name": "ipython",
    "version": 3
   },
   "file_extension": ".py",
   "mimetype": "text/x-python",
   "name": "python",
   "nbconvert_exporter": "python",
   "pygments_lexer": "ipython3",
   "version": "3.12.0"
  }
 },
 "nbformat": 4,
 "nbformat_minor": 2
}
