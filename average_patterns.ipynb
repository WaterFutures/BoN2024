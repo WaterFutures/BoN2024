{
 "cells": [
  {
   "cell_type": "markdown",
   "metadata": {},
   "source": [
    "# Average patterns \n",
    "With this notebook we want to see the average pattern over different timescales"
   ]
  },
  {
   "cell_type": "code",
   "execution_count": null,
   "metadata": {},
   "outputs": [],
   "source": [
    "# Load variables from load_original_data\n",
    "import data_loader\n",
    "dmas_h_cons, raw_weather, calendar, dmas_characteristics = data_loader.load_original_data()"
   ]
  },
  {
   "cell_type": "code",
   "execution_count": null,
   "metadata": {},
   "outputs": [],
   "source": [
    "\n",
    "import matplotlib.pyplot as plt\n",
    "import pandas as pd\n",
    "import numpy as np"
   ]
  },
  {
   "cell_type": "markdown",
   "metadata": {},
   "source": [
    "## Daily patterns \n",
    "\n",
    "### Scaled average daily patterns \n",
    "A single plot with the scaled average daily pattern for each DMA and for the network."
   ]
  },
  {
   "cell_type": "code",
   "execution_count": null,
   "metadata": {},
   "outputs": [],
   "source": [
    "net_h_cons = dmas_h_cons.sum(axis=1, skipna=False)\n",
    "\n",
    "dmas_h_cons__byhour = dmas_h_cons.groupby(dmas_h_cons.index.hour)\n",
    "net_h_cons__byhour = net_h_cons.groupby(net_h_cons.index.hour)\n",
    "\n",
    "plt.figure(figsize=(12, 8))\n",
    "for dma in dmas_characteristics.index:\n",
    "    plt.plot(dmas_h_cons__byhour[dma].mean()/dmas_characteristics.loc[dma,'h_mean'], label=dma)\n",
    "\n",
    "plt.plot(net_h_cons__byhour.mean()/dmas_characteristics.loc[:,'h_mean'].sum(), label='Network', linewidth=3, linestyle='--', color='black')\n",
    "plt.legend()\n",
    "plt.grid(True)"
   ]
  },
  {
   "cell_type": "markdown",
   "metadata": {},
   "source": [
    "### Network scaled daily pattern \n",
    "The first plot represent the total consumption of the network with the variance for each hour. The second onestandard deviation of each hour."
   ]
  },
  {
   "cell_type": "code",
   "execution_count": null,
   "metadata": {},
   "outputs": [],
   "source": [
    "plt.figure(figsize=(12, 8))\n",
    "gspec = plt.GridSpec(4, 1)\n",
    "\n",
    "# Plot the average and one standard deviation of the inflow for the total consumption\n",
    "plt.subplot(gspec[0:3, 0])\n",
    "plt.title('Average and standard deviation of the total consumption')\n",
    "plt.plot(net_h_cons__byhour.mean(), label='Mean')\n",
    "for i in range(1,4) : \n",
    "    plt.fill_between(net_h_cons__byhour.mean().index, net_h_cons__byhour.mean()+net_h_cons__byhour.std()*i, net_h_cons__byhour.mean()-net_h_cons__byhour.std()*i, \n",
    "                     color='b', alpha=.1*(4-i), label=f'{i} std')\n",
    "plt.legend()\n",
    "plt.grid(True)\n",
    "\n",
    "# Plot the normal distribution for the total consumption\n",
    "plt.subplot(gspec[3, 0])\n",
    "plt.title('Hourly standard deviation of the total consumption')\n",
    "for i in range(1,4) :\n",
    "    plt.fill_between(net_h_cons__byhour.mean().index, net_h_cons__byhour.std()*i, -net_h_cons__byhour.std()*i, \n",
    "                     color='gray', alpha=.2*(4-i), label=f'{i} std')\n",
    "plt.legend()\n",
    "\n",
    "plt.tight_layout()"
   ]
  },
  {
   "cell_type": "markdown",
   "metadata": {},
   "source": [
    "\n",
    "### Scaled daily pattern by DMA\n",
    "A plot for each DMA, with average value and standard deviation at the hourly level.\n"
   ]
  },
  {
   "cell_type": "code",
   "execution_count": null,
   "metadata": {},
   "outputs": [],
   "source": [
    "fig, axs = plt.subplots(2, 5, figsize=(12, 8))\n",
    "\n",
    "for ax, dma in zip(axs.flatten(), dmas_characteristics.index):\n",
    "    dma_ave = dmas_characteristics.loc[dma,'h_mean']\n",
    "    ax.plot(dmas_h_cons__byhour[dma].mean()/dma_ave, label='Mean')\n",
    "    for i in range(1,4) :\n",
    "        ax.fill_between(dmas_h_cons__byhour[dma].mean().index, \n",
    "                        (dmas_h_cons__byhour[dma].mean()+dmas_h_cons__byhour[dma].std()*i)/dma_ave, \n",
    "                        (dmas_h_cons__byhour[dma].mean()-dmas_h_cons__byhour[dma].std()*i)/dma_ave, \n",
    "                        color='b', alpha=.1*(4-i), label=f'{i} std')\n",
    "    ax.set_title(f\"${dma}-(${dmas_characteristics.loc[dma, 'desc_short']})\")\n",
    "    ax.grid(True)\n",
    "    ax.set_ylim([0.5, 1.8])\n"
   ]
  },
  {
   "cell_type": "markdown",
   "metadata": {},
   "source": [
    "## Weekly patterns\n",
    "\n",
    "### Scaled average weekly patterns \n",
    "A single plot with the scaled average weekly pattern for each DMA and for the network."
   ]
  },
  {
   "cell_type": "code",
   "execution_count": null,
   "metadata": {},
   "outputs": [],
   "source": [
    "dmas_d_cons = dmas_h_cons.resample('D').mean()\n",
    "net_d_cons = net_h_cons.resample('D').mean()\n",
    "\n",
    "dma_d_cons__byday = dmas_d_cons.groupby(dmas_d_cons.index.dayofweek)\n",
    "net_d_cons__byday = net_d_cons.groupby(net_d_cons.index.dayofweek)\n",
    "\n",
    "plt.figure(figsize=(12, 8))\n",
    "for dma in dmas_characteristics.index:\n",
    "    plt.plot(dma_d_cons__byday[dma].mean()/dmas_characteristics.loc[dma,'h_mean'], label=dma)\n",
    "\n",
    "plt.plot(net_d_cons__byday.mean()/dmas_characteristics.loc[:,'h_mean'].sum(), label='Network', linewidth=3, linestyle='--', color='black')\n",
    "plt.legend()\n",
    "plt.grid(True)\n",
    "plt.xlabel('Day of the week')\n",
    "plt.xticks(np.arange(7), ['Monday', 'Tuesday', 'Wednesday', 'Thursday', 'Friday', 'Saturday', 'Sunday'])\n",
    "plt.show()"
   ]
  },
  {
   "cell_type": "markdown",
   "metadata": {},
   "source": [
    "\n",
    "### Scaled daily pattern total consumption\n",
    "A plot for the toal consumption with confidence plot\n"
   ]
  },
  {
   "cell_type": "code",
   "execution_count": null,
   "metadata": {},
   "outputs": [],
   "source": [
    "plt.figure(figsize=(12, 8))\n",
    "plt.title('Average and standard deviation of the network total consumption')\n",
    "plt.plot(net_d_cons__byday.mean(), color='b', label='$\\mu$')\n",
    "for i in range(1,4) :\n",
    "    plt.fill_between(net_d_cons__byday.mean().index, net_d_cons__byday.mean()+net_d_cons__byday.std()*i, net_d_cons__byday.mean()-net_d_cons__byday.std()*i, \n",
    "                     color='b', alpha=.1*(4-i), label=f'{i} $\\sigma$')\n",
    "plt.legend()\n",
    "plt.grid(True)\n",
    "plt.xlabel('Day of the week')\n",
    "plt.xticks(np.arange(7), ['Monday', 'Tuesday', 'Wednesday', 'Thursday', 'Friday', 'Saturday', 'Sunday'])\n",
    "plt.show()"
   ]
  },
  {
   "cell_type": "markdown",
   "metadata": {},
   "source": [
    "\n",
    "### Scaled daily pattern DMA\n",
    "A plot for each DMA, with average value and confidence plot"
   ]
  },
  {
   "cell_type": "code",
   "execution_count": null,
   "metadata": {},
   "outputs": [],
   "source": [
    "fig, axs = plt.subplots(2, 5, figsize=(12, 8))\n",
    "\n",
    "for ax, dma in zip(axs.flatten(), dmas_characteristics.index):\n",
    "    ax.plot(dma_d_cons__byday[dma].mean()/dmas_characteristics.loc[dma,'h_mean'], label=\"Mean\")\n",
    "    for i in range(1,4) :\n",
    "        ax.fill_between(dma_d_cons__byday[dma].mean().index, \n",
    "                        (dma_d_cons__byday[dma].mean()+dma_d_cons__byday[dma].std()*i)/dmas_characteristics.loc[dma,'h_mean'], \n",
    "                        (dma_d_cons__byday[dma].mean()-dma_d_cons__byday[dma].std()*i)/dmas_characteristics.loc[dma,'h_mean'], \n",
    "                        color='b', alpha=.1*(4-i), label=f'{i} std')\n",
    "    ax.set_title(f\"${dma}-(${dmas_characteristics.loc[dma, 'desc_short']})\")\n",
    "    ax.grid(True)\n",
    "    ax.set_ylim([0.6, 1.4])\n",
    "    ax.xaxis.set_ticks(np.arange(7))\n",
    "    ax.yaxis.set_ticks(np.arange(0.6, 1.401, 0.2))"
   ]
  },
  {
   "cell_type": "markdown",
   "metadata": {},
   "source": [
    "### Changes in paterns Winter vs Summer\n"
   ]
  },
  {
   "cell_type": "code",
   "execution_count": null,
   "metadata": {
    "tags": []
   },
   "outputs": [],
   "source": [
    "#Start from 3rd of January\n",
    "dmas_h_cons = dmas_h_cons.loc[dmas_h_cons.index >= '2021-01-04',:]\n",
    "#dates to seperate the dataset\n",
    "winter1_fin = pd.Timestamp('2021-03-28')\n",
    "summer1_str = pd.Timestamp('2021-03-29' )\n",
    "summer1_fin = pd.Timestamp('2021-10-31')\n",
    "winter2_str = pd.Timestamp('2021-11-01')\n",
    "winter2_fin = pd.Timestamp('2022-03-27')\n",
    "summer2_str = pd.Timestamp('2022-03-28')\n",
    "\n",
    "# Filter DataFrame based on the specified dates\n",
    "#1st year\n",
    "winter1_df = dmas_h_cons[((dmas_h_cons.index < winter1_fin))]\n",
    "summer1_df = dmas_h_cons[(dmas_h_cons.index >= summer1_str ) & (dmas_h_cons.index < summer1_fin ) ]\n",
    "\n",
    "#2nd year\n",
    "winter2_df = dmas_h_cons[((dmas_h_cons.index >= winter2_str) & (dmas_h_cons.index < winter2_fin))]\n",
    "summer2_df = dmas_h_cons[((dmas_h_cons.index >= summer2_str) )]\n",
    "\n",
    "#Merge them together\n",
    "final_winter = pd.concat([winter1_df,winter2_df])\n",
    "final_summer = pd.concat([summer1_df,summer2_df])\n",
    "\n",
    "net_h_cons_winter = final_winter.sum(axis=1, skipna=False)\n",
    "net_h_cons_summer = final_summer.sum(axis=1, skipna=False)\n",
    "\n",
    "net_h_cons__byhour_winter = net_h_cons_winter.groupby(net_h_cons_winter.index.hour)\n",
    "net_h_cons__byhour_summer = net_h_cons_summer.groupby(net_h_cons_summer.index.hour)\n",
    "\n",
    "\n",
    "###Ploting\n",
    "plt.figure(figsize=(12, 8))\n",
    "plt.plot(net_h_cons__byhour_winter.mean()/dmas_characteristics.loc[:,'h_mean'].sum(), label='Winter', linewidth=3, color='black')\n",
    "plt.plot(net_h_cons__byhour_summer.mean()/dmas_characteristics.loc[:,'h_mean'].sum(), label='Summer', linewidth=3, color='Red')\n",
    "plt.legend()\n",
    "plt.grid(True)\n",
    "\n"
   ]
  },
  {
   "cell_type": "markdown",
   "metadata": {},
   "source": [
    "### For Each DMA\n",
    "\n",
    "We are ploting for each DMA the paterns for winter and Summer."
   ]
  },
  {
   "cell_type": "code",
   "execution_count": null,
   "metadata": {
    "tags": []
   },
   "outputs": [],
   "source": [
    "winter_h_cons__byhour = final_winter.groupby(final_winter.index.hour)\n",
    "summer_h_cons__byhour = final_summer.groupby(final_summer.index.hour)\n",
    "\n",
    "\n",
    "fig, axs = plt.subplots(2, 5, figsize=(12, 8))\n",
    "\n",
    "for ax, dma in zip(axs.flatten(), dmas_characteristics.index):\n",
    "    ax.plot(winter_h_cons__byhour[dma].mean()/final_winter[dma].mean()  , label='Winter',color= \"black\")\n",
    "    ax.plot(summer_h_cons__byhour[dma].mean()/final_summer[dma].mean()  , label='Winter',color=\"red\")\n",
    "    \n",
    "    ax.set_title(f\"${dma}-(${dmas_characteristics.loc[dma, 'desc_short']})\")\n",
    "    ax.grid(True)\n",
    "    ax.set_ylim([0.5, 1.8])\n",
    "\n",
    "    \n",
    "    \n"
   ]
  }
 ],
 "metadata": {
  "kernelspec": {
   "display_name": "Python 3 (ipykernel)",
   "language": "python",
   "name": "python3"
  },
  "language_info": {
   "codemirror_mode": {
    "name": "ipython",
    "version": 3
   },
   "file_extension": ".py",
   "mimetype": "text/x-python",
   "name": "python",
   "nbconvert_exporter": "python",
   "pygments_lexer": "ipython3",
   "version": "3.11.3"
  }
 },
 "nbformat": 4,
 "nbformat_minor": 4
}
