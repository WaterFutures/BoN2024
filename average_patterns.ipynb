{
 "cells": [
  {
   "cell_type": "markdown",
   "metadata": {},
   "source": [
    "# Average patterns \n",
    "With this notebook we want to see the average pattern over different timescales"
   ]
  },
  {
   "cell_type": "code",
   "execution_count": null,
   "metadata": {},
   "outputs": [],
   "source": [
    "# Load variables from load_original_data\n",
    "import data_loader\n",
    "dmas_h_cons, raw_weather, calendar, dmas_characteristics = data_loader.load_original_data()"
   ]
  },
  {
   "cell_type": "code",
   "execution_count": null,
   "metadata": {},
   "outputs": [],
   "source": [
    "%matplotlib widget\n",
    "import matplotlib.pyplot as plt\n",
    "import pandas as pd\n",
    "import numpy as np"
   ]
  },
  {
   "cell_type": "markdown",
   "metadata": {},
   "source": [
    "## Daily patterns \n",
    "\n",
    "### Scaled average daily patterns \n",
    "A single plot with the scaled average daily pattern for each DMA and for the network."
   ]
  },
  {
   "cell_type": "code",
   "execution_count": null,
   "metadata": {},
   "outputs": [],
   "source": [
    "net_h_cons = dmas_h_cons.sum(axis=1, skipna=False)\n",
    "\n",
    "dmas_h_cons__byhour = dmas_h_cons.groupby(dmas_h_cons.index.hour)\n",
    "net_h_cons__byhour = net_h_cons.groupby(net_h_cons.index.hour)\n",
    "\n",
    "plt.figure(figsize=(12, 8))\n",
    "for dma in dmas_characteristics.index:\n",
    "    plt.plot(dmas_h_cons__byhour[dma].mean()/dmas_characteristics.loc[dma,'h_mean'], label=dma)\n",
    "\n",
    "plt.plot(net_h_cons__byhour.mean()/dmas_characteristics.loc[:,'h_mean'].sum(), label='Network', linewidth=3, linestyle='--', color='black')\n",
    "plt.legend()\n",
    "plt.grid(True)"
   ]
  },
  {
   "cell_type": "markdown",
   "metadata": {},
   "source": [
    "### Network scaled daily pattern \n",
    "The first plot represent the total consumption of the network with the variance for each hour. The second onestandard deviation of each hour."
   ]
  },
  {
   "cell_type": "code",
   "execution_count": null,
   "metadata": {},
   "outputs": [],
   "source": [
    "plt.figure(figsize=(12, 8))\n",
    "gspec = plt.GridSpec(4, 1)\n",
    "\n",
    "# Plot the average and one standard deviation of the inflow for the total consumption\n",
    "plt.subplot(gspec[0:3, 0])\n",
    "plt.title('Average and standard deviation of the total consumption')\n",
    "plt.plot(net_h_cons__byhour.mean(), label='Mean')\n",
    "for i in range(1,4) : \n",
    "    plt.fill_between(net_h_cons__byhour.mean().index, net_h_cons__byhour.mean()+net_h_cons__byhour.std()*i, net_h_cons__byhour.mean()-net_h_cons__byhour.std()*i, \n",
    "                     color='b', alpha=.1*(4-i), label=f'{i} std')\n",
    "plt.legend()\n",
    "plt.grid(True)\n",
    "\n",
    "# Plot the normal distribution for the total consumption\n",
    "plt.subplot(gspec[3, 0])\n",
    "plt.title('Hourly standard deviation of the total consumption')\n",
    "for i in range(1,4) :\n",
    "    plt.fill_between(net_h_cons__byhour.mean().index, net_h_cons__byhour.std()*i, -net_h_cons__byhour.std()*i, \n",
    "                     color='gray', alpha=.2*(4-i), label=f'{i} std')\n",
    "plt.legend()\n",
    "\n",
    "plt.tight_layout()"
   ]
  },
  {
   "cell_type": "markdown",
   "metadata": {},
   "source": [
    "\n",
    "### Scaled daily pattern by DMA\n",
    "A plot for each DMA, with average value and standard deviation at the hourly level.\n"
   ]
  },
  {
   "cell_type": "code",
   "execution_count": null,
   "metadata": {},
   "outputs": [],
   "source": [
    "fig, axs = plt.subplots(2, 5, figsize=(12, 8))\n",
    "\n",
    "for ax, dma in zip(axs.flatten(), dmas_characteristics.index):\n",
    "    dma_ave = dmas_characteristics.loc[dma,'h_mean']\n",
    "    ax.plot(dmas_h_cons__byhour[dma].mean()/dma_ave, label='Mean')\n",
    "    for i in range(1,4) :\n",
    "        ax.fill_between(dmas_h_cons__byhour[dma].mean().index, \n",
    "                        (dmas_h_cons__byhour[dma].mean()+dmas_h_cons__byhour[dma].std()*i)/dma_ave, \n",
    "                        (dmas_h_cons__byhour[dma].mean()-dmas_h_cons__byhour[dma].std()*i)/dma_ave, \n",
    "                        color='b', alpha=.1*(4-i), label=f'{i} std')\n",
    "    ax.set_title(f\"${dma}-(${dmas_characteristics.loc[dma, 'desc_short']})\")\n",
    "    ax.grid(True)\n",
    "    ax.set_ylim([0.5, 1.8])\n"
   ]
  },
  {
   "cell_type": "markdown",
   "metadata": {},
   "source": [
    "## Weekly patterns\n",
    "\n",
    "### Scaled average weekly patterns \n",
    "A single plot with the scaled average weekly pattern for each DMA and for the network."
   ]
  },
  {
   "cell_type": "code",
   "execution_count": null,
   "metadata": {},
   "outputs": [],
   "source": [
    "dmas_d_cons = dmas_h_cons.resample('D').mean()\n",
    "net_d_cons = net_h_cons.resample('D').mean()\n",
    "\n",
    "dma_d_cons__byday = dmas_d_cons.groupby(dmas_d_cons.index.dayofweek)\n",
    "net_d_cons__byday = net_d_cons.groupby(net_d_cons.index.dayofweek)\n",
    "\n",
    "plt.figure(figsize=(12, 8))\n",
    "for dma in dmas_characteristics.index:\n",
    "    plt.plot(dma_d_cons__byday[dma].mean()/dmas_characteristics.loc[dma,'h_mean'], label=dma)\n",
    "\n",
    "plt.plot(net_d_cons__byday.mean()/dmas_characteristics.loc[:,'h_mean'].sum(), label='Network', linewidth=3, linestyle='--', color='black')\n",
    "plt.legend()\n",
    "plt.grid(True)\n",
    "plt.xlabel('Day of the week')\n",
    "plt.xticks(np.arange(7), ['Monday', 'Tuesday', 'Wednesday', 'Thursday', 'Friday', 'Saturday', 'Sunday'])\n",
    "plt.show()"
   ]
  },
  {
   "cell_type": "markdown",
   "metadata": {},
   "source": [
    "\n",
    "### Scaled daily pattern total consumption\n",
    "A plot for the toal consumption with confidence plot\n"
   ]
  },
  {
   "cell_type": "code",
   "execution_count": null,
   "metadata": {},
   "outputs": [],
   "source": [
    "plt.figure(figsize=(12, 8))\n",
    "plt.title('Average and standard deviation of the network total consumption')\n",
    "plt.plot(net_d_cons__byday.mean(), color='b', label='$\\mu$')\n",
    "for i in range(1,4) :\n",
    "    plt.fill_between(net_d_cons__byday.mean().index, net_d_cons__byday.mean()+net_d_cons__byday.std()*i, net_d_cons__byday.mean()-net_d_cons__byday.std()*i, \n",
    "                     color='b', alpha=.1*(4-i), label=f'{i} $\\sigma$')\n",
    "plt.legend()\n",
    "plt.grid(True)\n",
    "plt.xlabel('Day of the week')\n",
    "plt.xticks(np.arange(7), ['Monday', 'Tuesday', 'Wednesday', 'Thursday', 'Friday', 'Saturday', 'Sunday'])\n",
    "plt.show()"
   ]
  },
  {
   "cell_type": "markdown",
   "metadata": {},
   "source": [
    "\n",
    "### Scaled daily pattern DMA\n",
    "A plot for each DMA, with average value and confidence plot"
   ]
  },
  {
   "cell_type": "code",
   "execution_count": null,
   "metadata": {},
   "outputs": [],
   "source": [
    "fig, axs = plt.subplots(2, 5, figsize=(12, 8))\n",
    "\n",
    "for ax, dma in zip(axs.flatten(), dmas_characteristics.index):\n",
    "    ax.plot(dma_d_cons__byday[dma].mean()/dmas_characteristics.loc[dma,'h_mean'], label=\"Mean\")\n",
    "    for i in range(1,4) :\n",
    "        ax.fill_between(dma_d_cons__byday[dma].mean().index, \n",
    "                        (dma_d_cons__byday[dma].mean()+dma_d_cons__byday[dma].std()*i)/dmas_characteristics.loc[dma,'h_mean'], \n",
    "                        (dma_d_cons__byday[dma].mean()-dma_d_cons__byday[dma].std()*i)/dmas_characteristics.loc[dma,'h_mean'], \n",
    "                        color='b', alpha=.1*(4-i), label=f'{i} std')\n",
    "    ax.set_title(f\"${dma}-(${dmas_characteristics.loc[dma, 'desc_short']})\")\n",
    "    ax.grid(True)\n",
    "    ax.set_ylim([0.6, 1.4])\n",
    "    ax.xaxis.set_ticks(np.arange(7))\n",
    "    ax.yaxis.set_ticks(np.arange(0.6, 1.401, 0.2))"
   ]
  }
 ],
 "metadata": {
  "kernelspec": {
   "display_name": "BoN2024",
   "language": "python",
   "name": "python3"
  },
  "language_info": {
   "codemirror_mode": {
    "name": "ipython",
    "version": 3
   },
   "file_extension": ".py",
   "mimetype": "text/x-python",
   "name": "python",
   "nbconvert_exporter": "python",
   "pygments_lexer": "ipython3",
   "version": "3.12.0"
  }
 },
 "nbformat": 4,
 "nbformat_minor": 2
}
