{
 "cells": [
  {
   "cell_type": "code",
   "execution_count": null,
   "metadata": {},
   "outputs": [],
   "source": [
    "import numpy as np\n",
    "import pandas as pd\n",
    "import os\n",
    "import pickle"
   ]
  },
  {
   "cell_type": "markdown",
   "metadata": {},
   "source": [
    "### Data loading helpers"
   ]
  },
  {
   "cell_type": "code",
   "execution_count": null,
   "metadata": {},
   "outputs": [],
   "source": [
    "DMAS_NAMES = ['DMA_A', 'DMA_B', 'DMA_C', 'DMA_D', 'DMA_E', 'DMA_F', 'DMA_G', 'DMA_H', 'DMA_I', 'DMA_J']\n",
    "WEEK_LEN = 24 * 7"
   ]
  },
  {
   "cell_type": "code",
   "execution_count": null,
   "metadata": {},
   "outputs": [],
   "source": [
    "from eval.ensembler import load_data"
   ]
  },
  {
   "cell_type": "code",
   "execution_count": null,
   "metadata": {},
   "outputs": [],
   "source": [
    "demand, weather = load_data()\n",
    "\n",
    "def get_data(for_week):\n",
    "    cur_demand = demand.iloc[:for_week * WEEK_LEN]\n",
    "    cur_weather = weather.iloc[:(for_week+1) * WEEK_LEN]\n",
    "    cur_demand_gt = demand.iloc[for_week * WEEK_LEN : (for_week+1) * WEEK_LEN]\n",
    "    return cur_demand, cur_weather, cur_demand_gt"
   ]
  },
  {
   "cell_type": "markdown",
   "metadata": {},
   "source": [
    "### Make ensembled forecast"
   ]
  },
  {
   "cell_type": "code",
   "execution_count": null,
   "metadata": {},
   "outputs": [],
   "source": [
    "from eval.ensembler import WaterFuturesEnsembler, performance_indicators\n",
    "from models.wavenet import wavenet_lin\n",
    "from models.LGBM import lgbm_robust\n",
    "from models.rolling_average_week import rolling_average_week\n",
    "from models.TSMix import tsmix\n",
    "from models.prototype_based import prototype_7\n",
    "from models.pattern_regression import pattern_regression_daily\n",
    "from models.autoregressives import autoreg_no_preprocess"
   ]
  },
  {
   "cell_type": "code",
   "execution_count": null,
   "metadata": {},
   "outputs": [],
   "source": [
    "ensmebled_forecast = []\n",
    "\n",
    "ensembled_pis = pd.DataFrame(\n",
    "            index=pd.MultiIndex.from_tuples([(week,dma) for week in range(13, 77) for dma in DMAS_NAMES], names=['Test week', 'DMA']),\n",
    "            columns=['PI1', 'PI2', 'PI3'],\n",
    "            dtype=float\n",
    "        )\n",
    "\n",
    "for week in range(13, 77):\n",
    "    print(f'Week {week}...')\n",
    "    cur_demand, cur_weather, cur_demand_gt = get_data(for_week=week)\n",
    "    ensembler = WaterFuturesEnsembler(cur_demand, cur_weather)\n",
    "    # TODO Add models\n",
    "    ensembler.add_model(wavenet_lin)\n",
    "    ensembler.add_model(lgbm_robust)\n",
    "    ensembler.add_model(rolling_average_week(4))\n",
    "    ensembler.add_model(tsmix)\n",
    "    ensembler.add_model(prototype_7)\n",
    "    ensembler.add_model(pattern_regression_daily)\n",
    "    ensembler.add_model(autoreg_no_preprocess)\n",
    "    ensembler.run()\n",
    "\n",
    "    ensmebled_forecast.append(ensembler.ensemble_forecast)\n",
    "\n",
    "    ensembled_pis.loc[week] = performance_indicators(ensembler.ensemble_forecast.astype(float), cur_demand_gt)\n",
    "\n",
    "forecast = pd.concat(ensmebled_forecast)\n"
   ]
  },
  {
   "cell_type": "code",
   "execution_count": null,
   "metadata": {},
   "outputs": [],
   "source": [
    "results = {\n",
    "    'performance_indicators': ensembled_pis,\n",
    "    'forecast': forecast\n",
    "}\n",
    "\n",
    "# Save results to disk\n",
    "file_path = 'wfe_results/EnsembleLast1.pkl'\n",
    "with open(file_path, 'wb') as f:\n",
    "    pickle.dump(results, f)"
   ]
  },
  {
   "cell_type": "code",
   "execution_count": null,
   "metadata": {},
   "outputs": [],
   "source": []
  }
 ],
 "metadata": {
  "kernelspec": {
   "display_name": "waterfutures",
   "language": "python",
   "name": "python3"
  },
  "language_info": {
   "codemirror_mode": {
    "name": "ipython",
    "version": 3
   },
   "file_extension": ".py",
   "mimetype": "text/x-python",
   "name": "python",
   "nbconvert_exporter": "python",
   "pygments_lexer": "ipython3",
   "version": "3.9.18"
  }
 },
 "nbformat": 4,
 "nbformat_minor": 2
}
