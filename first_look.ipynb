{
 "cells": [
  {
   "cell_type": "markdown",
   "metadata": {},
   "source": [
    "# First look at the data"
   ]
  },
  {
   "cell_type": "markdown",
   "metadata": {},
   "source": [
    "This script only shows the original data the organisation committee gave and how to use them starting from the script `load_original_data.py`. \n",
    "\n",
    "The environmental variable `DATA_FOLDER` must be defined in your shell/bash. This variable refers to the folder where your projects' data are saved.\n",
    "\n",
    "For the Battle of the Weather Demand Forecasting (Battle of the Network 2024), the project name, hence the folder, is `BoN2024_data`.  \n",
    "\n",
    "The original data are saved in the `original` folder. \n",
    "\n",
    "## Load the data"
   ]
  },
  {
   "cell_type": "code",
   "execution_count": null,
   "metadata": {
    "scrolled": true
   },
   "outputs": [],
   "source": [
    "# Load variables from load_original_data\n",
    "import data_loader\n",
    "dmas_h_cons, raw_weather, calendar, dmas_characteristics = data_loader.load_original_data()"
   ]
  },
  {
   "cell_type": "markdown",
   "metadata": {},
   "source": [
    "## Plot a typical day \n",
    "### By DMA\n",
    "Let's see what a random day where I have the data for 24 hours in a row from all the DMAs looks like. "
   ]
  },
  {
   "cell_type": "code",
   "execution_count": null,
   "metadata": {},
   "outputs": [],
   "source": [
    "%matplotlib widget\n",
    "import matplotlib.pyplot as plt\n",
    "import pandas as pd \n",
    "\n",
    "# Find the days where you have 24 hours in a row of data for all the DMAs\n",
    "full_days = dmas_h_cons.groupby(dmas_h_cons.index.date).count().iloc[:, :] == 24\n",
    "# Find days where all DMAs have 24 hours of data\n",
    "full_days = full_days[full_days.sum(axis=1) == 10]\n",
    "# Select a random day from the full days\n",
    "random_day = pd.Timestamp(full_days.sample().index[0])\n",
    "\n",
    "# Plot the data for that day\n",
    "plt.figure(figsize=(10,10))\n",
    "plt.title(f\"Consumption of all DMAs for {random_day}\")\n",
    "for dma in dmas_h_cons.columns:\n",
    "    plt.plot(dmas_h_cons.loc[random_day:random_day+pd.Timedelta(hours=23), dma], label=dma)\n",
    "\n",
    "plt.legend()\n",
    "plt.grid(visible=True)"
   ]
  },
  {
   "cell_type": "markdown",
   "metadata": {},
   "source": [
    "### Total consumption \n",
    "When we aggregate all the 10 DMAs, the total consumption looks like this:"
   ]
  },
  {
   "cell_type": "code",
   "execution_count": null,
   "metadata": {},
   "outputs": [],
   "source": [
    "# Plot the sum of all the DMAs for that day\n",
    "plt.figure(figsize=(12,8))\n",
    "plt.title(f\"Total network consumption for {random_day}\")\n",
    "plt.plot(dmas_h_cons.loc[random_day:random_day+pd.Timedelta(hours=23), :].sum(axis=1, skipna=False), label=\"Network\", linewidth=3, color=\"black\")\n",
    "plt.legend()\n",
    "plt.grid(visible=True)"
   ]
  },
  {
   "cell_type": "markdown",
   "metadata": {},
   "source": [
    "And this is how it looks like when consumptions are relative to the average value of the dma."
   ]
  },
  {
   "cell_type": "code",
   "execution_count": null,
   "metadata": {},
   "outputs": [],
   "source": [
    "plt.figure(figsize=(12,8))\n",
    "plt.title(f\"Scaled consumption of network and DMAs for {random_day}\")\n",
    "scaled_consumption = dmas_h_cons.copy()\n",
    "scaled_consumption = scaled_consumption.div(dmas_characteristics['h_mean'].values, axis=1)\n",
    "for dma in scaled_consumption.columns:\n",
    "    plt.plot(scaled_consumption.loc[random_day:random_day+pd.Timedelta(hours=23), dma], label=dma)\n",
    "\n",
    "plt.plot(dmas_h_cons.loc[random_day:random_day+pd.Timedelta(hours=23), :].sum(axis=1)/dmas_characteristics.loc[:,'h_mean'].sum(), label=\"Network\", linewidth=3, linestyle='--', color='black')\n",
    "\n",
    "plt.grid(True)\n",
    "plt.legend()"
   ]
  },
  {
   "cell_type": "markdown",
   "metadata": {},
   "source": [
    "## Complete time series\n",
    "### By DMA"
   ]
  },
  {
   "cell_type": "code",
   "execution_count": null,
   "metadata": {},
   "outputs": [],
   "source": [
    "fig, axs = plt.subplots(11, 1, figsize=(12, 44))\n",
    "for ax, dma in zip(axs.flatten(), dmas_characteristics.index):\n",
    "    #ax.title(f\"Consumption of {dma} from {dmas_h_cons.index.min()} to {dmas_h_cons.index.max()}\")\n",
    "    dma_d_cons = dmas_h_cons.loc[:,dma].resample('D').mean()\n",
    "    dma_w_cons = dmas_h_cons.loc[:,dma].resample('W').mean()\n",
    "    ax.plot(dma_d_cons, label=dma)\n",
    "    ax.plot(dma_w_cons, label=f\"{dma} weekly\", linestyle='--')\n",
    "\n",
    "plt.subplot(11,1,11)\n",
    "plt.plot(dmas_h_cons.sum(axis=1, skipna=False).resample('D').mean(), label=\"Network\")"
   ]
  }
 ],
 "metadata": {
  "kernelspec": {
   "display_name": "Python 3 (ipykernel)",
   "language": "python",
   "name": "python3"
  },
  "language_info": {
   "codemirror_mode": {
    "name": "ipython",
    "version": 3
   },
   "file_extension": ".py",
   "mimetype": "text/x-python",
   "name": "python",
   "nbconvert_exporter": "python",
   "pygments_lexer": "ipython3",
   "version": "3.12.0"
  }
 },
 "nbformat": 4,
 "nbformat_minor": 4
}
